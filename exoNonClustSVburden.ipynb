{
 "cells": [
  {
   "cell_type": "code",
   "execution_count": null,
   "id": "3197abed-3ea2-4319-be1b-03da1c1d7bc9",
   "metadata": {},
   "outputs": [],
   "source": [
    "nonClustSVburden <- function(csv){\n",
    "    #Function is run in R\n",
    "    #must install ggExtra and ggstatsplot packages\n",
    "    ggscatterstats( data = csv, x = 'Total_exogenous_SBS_mutations', y = 'Non_clustering_SV_burden', xlab = 'Total_exogenous_SBS_mutations', ylab = 'Non_clustering_SV_burden')\n",
    "    }\n"
   ]
  }
 ],
 "metadata": {
  "kernelspec": {
   "display_name": "R",
   "language": "R",
   "name": "ir"
  },
  "language_info": {
   "codemirror_mode": "r",
   "file_extension": ".r",
   "mimetype": "text/x-r-source",
   "name": "R",
   "pygments_lexer": "r",
   "version": "4.1.0"
  }
 },
 "nbformat": 4,
 "nbformat_minor": 5
}
